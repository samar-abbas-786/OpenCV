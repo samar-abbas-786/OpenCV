{
 "cells": [
  {
   "cell_type": "code",
   "execution_count": 1,
   "id": "d38ba478-d27c-4ccb-993d-0d860e3f00e4",
   "metadata": {},
   "outputs": [],
   "source": [
    "import cv2"
   ]
  },
  {
   "cell_type": "code",
   "execution_count": null,
   "id": "61933030-4d71-48d4-889a-52946a733450",
   "metadata": {},
   "outputs": [],
   "source": [
    "img1=cv2.imread(\"samar.jpeg\");\n",
    "img2=cv2.imread(\"samf.jpg\");\n",
    "\n",
    "img1=cv2.resize(img1,(500,500));\n",
    "img2=cv2.resize(img2,(500,500));\n",
    "\n",
    "\n"
   ]
  }
 ],
 "metadata": {
  "kernelspec": {
   "display_name": "Python 3 (ipykernel)",
   "language": "python",
   "name": "python3"
  },
  "language_info": {
   "codemirror_mode": {
    "name": "ipython",
    "version": 3
   },
   "file_extension": ".py",
   "mimetype": "text/x-python",
   "name": "python",
   "nbconvert_exporter": "python",
   "pygments_lexer": "ipython3",
   "version": "3.12.1"
  }
 },
 "nbformat": 4,
 "nbformat_minor": 5
}
