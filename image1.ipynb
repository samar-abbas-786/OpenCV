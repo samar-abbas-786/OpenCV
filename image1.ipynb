{
 "cells": [
  {
   "cell_type": "code",
   "execution_count": 28,
   "id": "3a887eeb-50a1-4f6c-acaa-e17ee7342921",
   "metadata": {},
   "outputs": [],
   "source": [
    "import cv2\n",
    "import numpy as np\n",
    "import os"
   ]
  },
  {
   "cell_type": "code",
   "execution_count": 12,
   "id": "71d5677c-25eb-4380-b8d3-371e5a8ede01",
   "metadata": {},
   "outputs": [],
   "source": [
    "# img=cv2.imread(\"samarDenim.jpg\");  #Read Image\n",
    "# res_image=cv2.resize(img,(500,700));  #REsize Image\n",
    "# cv2.imshow(\"My Image Window\",res_image);  #Show Image\n",
    "# cv2.waitKey(0);                      #await Window \n",
    "# cv2.destroyAllWindows();              #destroy window\n"
   ]
  },
  {
   "cell_type": "code",
   "execution_count": 13,
   "id": "78b626d9-20af-42b1-8132-ab39117ddf76",
   "metadata": {},
   "outputs": [
    {
     "name": "stdout",
     "output_type": "stream",
     "text": [
      "[[[164 177 179]\n",
      "  [164 177 179]\n",
      "  [164 177 179]\n",
      "  ...\n",
      "  [208 214 213]\n",
      "  [208 214 213]\n",
      "  [208 214 213]]\n",
      "\n",
      " [[164 177 179]\n",
      "  [164 177 179]\n",
      "  [164 177 179]\n",
      "  ...\n",
      "  [208 214 213]\n",
      "  [208 214 213]\n",
      "  [208 214 213]]\n",
      "\n",
      " [[164 177 179]\n",
      "  [164 177 179]\n",
      "  [164 177 179]\n",
      "  ...\n",
      "  [208 214 213]\n",
      "  [208 214 213]\n",
      "  [208 214 213]]\n",
      "\n",
      " ...\n",
      "\n",
      " [[210 129  14]\n",
      "  [210 129  14]\n",
      "  [210 129  14]\n",
      "  ...\n",
      "  [151  87  22]\n",
      "  [152  88  24]\n",
      "  [152  88  24]]\n",
      "\n",
      " [[210 129  14]\n",
      "  [210 129  14]\n",
      "  [210 129  14]\n",
      "  ...\n",
      "  [152  88  23]\n",
      "  [153  89  25]\n",
      "  [153  89  25]]\n",
      "\n",
      " [[210 129  14]\n",
      "  [210 129  14]\n",
      "  [210 129  14]\n",
      "  ...\n",
      "  [153  90  22]\n",
      "  [154  90  26]\n",
      "  [154  90  26]]]\n"
     ]
    }
   ],
   "source": [
    "img=cv2.imread(\"samarDenim.jpg\");  #Read Image\n",
    "print(img)"
   ]
  },
  {
   "cell_type": "code",
   "execution_count": 27,
   "id": "9e66d7cb-03d8-47e3-8a25-884c316bd2ca",
   "metadata": {},
   "outputs": [],
   "source": [
    "# img=cv2.imread(\"samarDenim.jpg\");  #Read Image\n",
    "# res_image=cv2.resize(img,(200,200));  #REsize Image\n",
    "# h=np.hstack((res_image,res_image,res_image,res_image));\n",
    "# v=np.vstack((h,h));\n",
    "# cv2.imshow(\"My Image Window\",v);  #Show Image\n",
    "# cv2.waitKey(0);                      #await Window \n",
    "# cv2.destroyAllWindows();              #destroy window\n"
   ]
  },
  {
   "cell_type": "code",
   "execution_count": 38,
   "id": "e1df2ca2-a577-4f65-a899-bc036c3ffe5a",
   "metadata": {},
   "outputs": [],
   "source": [
    "list_name=os.listdir(r\"C:\\Users\\HP\\OneDrive\\Pictures\\New folder\");\n"
   ]
  },
  {
   "cell_type": "code",
   "execution_count": 39,
   "id": "bffc65fb-0b76-4761-a942-2ccf72e2aa21",
   "metadata": {},
   "outputs": [
    {
     "data": {
      "text/plain": [
       "['pic-removebg-preview.jpg',\n",
       " 'pic.jpg',\n",
       " 'sam.jpg',\n",
       " 'samar.jpeg',\n",
       " 'samarDenim.jpg',\n",
       " 'samf.jpg',\n",
       " 'Screenshot 2023-10-23 025231.png']"
      ]
     },
     "execution_count": 39,
     "metadata": {},
     "output_type": "execute_result"
    }
   ],
   "source": [
    "list_name"
   ]
  },
  {
   "cell_type": "code",
   "execution_count": 50,
   "id": "77107a25-c852-47c6-8474-4b7249d95844",
   "metadata": {},
   "outputs": [],
   "source": [
    "for name in list_name:\n",
    "    path=\"C:\\\\Users\\\\HP\\\\OneDrive\\\\Pictures\\\\New folder\"\n",
    "    img_name=path+\"\\\\\"+name\n",
    "    img=cv2.imread(img_name)\n",
    "    img=cv2.resize(img,(300,300))\n",
    "    cv2.imshow(\"My Sliding Images\",img)\n",
    "    cv2.waitKey(0);\n",
    "cv2.destroyAllWindows();    "
   ]
  },
  {
   "cell_type": "code",
   "execution_count": null,
   "id": "ad5b56e6-4876-40e5-95d4-2522c5f4d039",
   "metadata": {},
   "outputs": [],
   "source": []
  }
 ],
 "metadata": {
  "kernelspec": {
   "display_name": "Python 3 (ipykernel)",
   "language": "python",
   "name": "python3"
  },
  "language_info": {
   "codemirror_mode": {
    "name": "ipython",
    "version": 3
   },
   "file_extension": ".py",
   "mimetype": "text/x-python",
   "name": "python",
   "nbconvert_exporter": "python",
   "pygments_lexer": "ipython3",
   "version": "3.12.1"
  }
 },
 "nbformat": 4,
 "nbformat_minor": 5
}
