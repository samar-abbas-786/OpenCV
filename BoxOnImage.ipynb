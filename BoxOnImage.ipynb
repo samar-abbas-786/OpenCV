{
 "cells": [
  {
   "cell_type": "code",
   "execution_count": 3,
   "id": "af4ba1f8-ff32-426e-ac56-6c4c4b349ba1",
   "metadata": {},
   "outputs": [],
   "source": [
    "import cv2"
   ]
  },
  {
   "cell_type": "code",
   "execution_count": 11,
   "id": "08c605a5-dc84-426d-a8c6-ce9d39e90b00",
   "metadata": {},
   "outputs": [],
   "source": [
    "old_img=cv2.imread(\"samar.jpeg\")\n",
    "old_img=cv2.resize(old_img,(500,500))\n",
    "\n",
    "new_img=cv2.line(img=old_img,pt1=(245,70),pt2=(305,70),color=(0,255,0),thickness=4,lineType=4)\n",
    "\n",
    "cv2.imshow(\"My Window\",new_img)\n",
    "cv2.waitKey(0)\n",
    "cv2.destroyAllWindows()\n"
   ]
  },
  {
   "cell_type": "code",
   "execution_count": 25,
   "id": "183a15b8-ed5c-484e-ac89-08b69278f9e3",
   "metadata": {},
   "outputs": [],
   "source": [
    "old_img=cv2.imread(\"samar.jpeg\")\n",
    "old_img=cv2.resize(old_img,(500,500))\n",
    "txt_img=cv2.putText(img=old_img,text=\"Samar\",org=(220,45),fontFace=1,fontScale=1,color=(255,0,0),thickness=1,lineType=16,bottomLeftOrigin=False)\n",
    "\n",
    "new_img=cv2.rectangle(img=txt_img,pt1=(215,35),pt2=(305,115),color=(0,255,200),thickness=2,lineType=4)\n",
    "\n",
    "cv2.imshow(\"My Window\",new_img)\n",
    "cv2.waitKey(0)\n",
    "cv2.destroyAllWindows()"
   ]
  },
  {
   "cell_type": "code",
   "execution_count": null,
   "id": "7f1496af-4630-40df-a741-d63160ec60e8",
   "metadata": {},
   "outputs": [],
   "source": []
  }
 ],
 "metadata": {
  "kernelspec": {
   "display_name": "Python 3 (ipykernel)",
   "language": "python",
   "name": "python3"
  },
  "language_info": {
   "codemirror_mode": {
    "name": "ipython",
    "version": 3
   },
   "file_extension": ".py",
   "mimetype": "text/x-python",
   "name": "python",
   "nbconvert_exporter": "python",
   "pygments_lexer": "ipython3",
   "version": "3.12.1"
  }
 },
 "nbformat": 4,
 "nbformat_minor": 5
}
